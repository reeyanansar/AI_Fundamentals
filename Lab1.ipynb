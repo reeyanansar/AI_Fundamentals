{
 "cells": [
  {
   "cell_type": "markdown",
   "id": "f913f296-f2de-4282-b8fc-d6663f97a826",
   "metadata": {},
   "source": [
    "# Understanding of the Matrix"
   ]
  },
  {
   "cell_type": "code",
   "execution_count": 4,
   "id": "fccbb6b8-a138-4d03-b031-b178bb4dda9a",
   "metadata": {},
   "outputs": [],
   "source": [
    "# We are using Libary of NumPy\n",
    "\n",
    "import numpy as np"
   ]
  },
  {
   "cell_type": "code",
   "execution_count": 5,
   "id": "34ea98ba-b221-4f13-ac74-29701e74b02c",
   "metadata": {},
   "outputs": [
    {
     "data": {
      "text/plain": [
       "matrix([[1, 2, 3],\n",
       "        [4, 5, 6]])"
      ]
     },
     "execution_count": 5,
     "metadata": {},
     "output_type": "execute_result"
    }
   ],
   "source": [
    "# Creating the Matrix\n",
    "matrix = np.matrix([[1,2,3],[4,5,6]])\n",
    "matrix"
   ]
  },
  {
   "cell_type": "code",
   "execution_count": 6,
   "id": "3961bf27-2275-4ddc-bf6b-6de1be861fa5",
   "metadata": {},
   "outputs": [
    {
     "data": {
      "text/plain": [
       "array([[1, 2, 3],\n",
       "       [4, 5, 6]])"
      ]
     },
     "execution_count": 6,
     "metadata": {},
     "output_type": "execute_result"
    }
   ],
   "source": [
    "# Creating the Array\n",
    "array = np.array([[1,2,3],[4,5,6]])\n",
    "array"
   ]
  },
  {
   "cell_type": "code",
   "execution_count": 10,
   "id": "12e570ba-6a49-42c9-a3bb-3fe45f7ef70c",
   "metadata": {},
   "outputs": [
    {
     "name": "stdout",
     "output_type": "stream",
     "text": [
      "The Type of the Matrix is :<class 'numpy.matrix'>\n"
     ]
    }
   ],
   "source": [
    "# Finding the Type of the \n",
    "\n",
    "print(f\"The Type of the Matrix is :{type(matrix)}\")"
   ]
  },
  {
   "cell_type": "code",
   "execution_count": 11,
   "id": "ec907b7a-a78c-4e02-96f5-131b832a0202",
   "metadata": {},
   "outputs": [
    {
     "name": "stdout",
     "output_type": "stream",
     "text": [
      "The Type of the Matrix is :<class 'numpy.ndarray'>\n"
     ]
    }
   ],
   "source": [
    "# Finding the Type of the \n",
    "\n",
    "print(f\"The Type of the Matrix is :{type(array)}\")"
   ]
  },
  {
   "cell_type": "markdown",
   "id": "c36d8882-f262-466c-8cd6-25d088c1e969",
   "metadata": {},
   "source": [
    "# Arthematic Operation on the Matrix"
   ]
  },
  {
   "cell_type": "code",
   "execution_count": 14,
   "id": "aad63471-4cd7-4856-ad70-7dbcf39fc40e",
   "metadata": {},
   "outputs": [
    {
     "data": {
      "text/plain": [
       "matrix([[ 2,  4,  6],\n",
       "        [ 8, 10, 12]])"
      ]
     },
     "execution_count": 14,
     "metadata": {},
     "output_type": "execute_result"
    }
   ],
   "source": [
    "# Addition\n",
    "add = matrix + matrix\n",
    "add"
   ]
  },
  {
   "cell_type": "code",
   "execution_count": 15,
   "id": "4594fd1a-e404-4f00-82b9-a502b0bc76ea",
   "metadata": {},
   "outputs": [
    {
     "data": {
      "text/plain": [
       "matrix([[0, 0, 0],\n",
       "        [0, 0, 0]])"
      ]
     },
     "execution_count": 15,
     "metadata": {},
     "output_type": "execute_result"
    }
   ],
   "source": [
    "# Subtraction\n",
    "sub = matrix - matrix\n",
    "sub"
   ]
  },
  {
   "cell_type": "markdown",
   "id": "ab5dfcf9-c23f-438a-80a8-07b44a57b698",
   "metadata": {},
   "source": [
    "# Multiplication of the Matrix"
   ]
  },
  {
   "cell_type": "code",
   "execution_count": 17,
   "id": "e8284d08-aa28-4f7a-baf4-caf3d9c2e6db",
   "metadata": {},
   "outputs": [
    {
     "ename": "ValueError",
     "evalue": "shapes (2,3) and (2,3) not aligned: 3 (dim 1) != 2 (dim 0)",
     "output_type": "error",
     "traceback": [
      "\u001b[1;31m---------------------------------------------------------------------------\u001b[0m",
      "\u001b[1;31mValueError\u001b[0m                                Traceback (most recent call last)",
      "Cell \u001b[1;32mIn[17], line 1\u001b[0m\n\u001b[1;32m----> 1\u001b[0m muti \u001b[38;5;241m=\u001b[39m matrix \u001b[38;5;241m*\u001b[39m matrix\n\u001b[0;32m      2\u001b[0m muti\n",
      "File \u001b[1;32m~\\anaconda3\\Lib\\site-packages\\numpy\\matrixlib\\defmatrix.py:219\u001b[0m, in \u001b[0;36mmatrix.__mul__\u001b[1;34m(self, other)\u001b[0m\n\u001b[0;32m    216\u001b[0m \u001b[38;5;28;01mdef\u001b[39;00m \u001b[38;5;21m__mul__\u001b[39m(\u001b[38;5;28mself\u001b[39m, other):\n\u001b[0;32m    217\u001b[0m     \u001b[38;5;28;01mif\u001b[39;00m \u001b[38;5;28misinstance\u001b[39m(other, (N\u001b[38;5;241m.\u001b[39mndarray, \u001b[38;5;28mlist\u001b[39m, \u001b[38;5;28mtuple\u001b[39m)) :\n\u001b[0;32m    218\u001b[0m         \u001b[38;5;66;03m# This promotes 1-D vectors to row vectors\u001b[39;00m\n\u001b[1;32m--> 219\u001b[0m         \u001b[38;5;28;01mreturn\u001b[39;00m N\u001b[38;5;241m.\u001b[39mdot(\u001b[38;5;28mself\u001b[39m, asmatrix(other))\n\u001b[0;32m    220\u001b[0m     \u001b[38;5;28;01mif\u001b[39;00m isscalar(other) \u001b[38;5;129;01mor\u001b[39;00m \u001b[38;5;129;01mnot\u001b[39;00m \u001b[38;5;28mhasattr\u001b[39m(other, \u001b[38;5;124m'\u001b[39m\u001b[38;5;124m__rmul__\u001b[39m\u001b[38;5;124m'\u001b[39m) :\n\u001b[0;32m    221\u001b[0m         \u001b[38;5;28;01mreturn\u001b[39;00m N\u001b[38;5;241m.\u001b[39mdot(\u001b[38;5;28mself\u001b[39m, other)\n",
      "\u001b[1;31mValueError\u001b[0m: shapes (2,3) and (2,3) not aligned: 3 (dim 1) != 2 (dim 0)"
     ]
    }
   ],
   "source": [
    "muti = matrix * matrix\n",
    "muti"
   ]
  },
  {
   "cell_type": "markdown",
   "id": "d68860f9-a43d-41a3-8a95-fefd0e2f31a4",
   "metadata": {},
   "source": [
    "\"\"\"Rules for the Multiplication of the matrix \"\"\"\"\n",
    "\n",
    "Number of the Columns equal to number of the Rows in another matrix"
   ]
  },
  {
   "cell_type": "code",
   "execution_count": 23,
   "id": "1795494d-9117-4987-b5a0-866e6cc8415d",
   "metadata": {},
   "outputs": [
    {
     "data": {
      "text/plain": [
       "matrix([[ 9, 12],\n",
       "        [24, 33]])"
      ]
     },
     "execution_count": 23,
     "metadata": {},
     "output_type": "execute_result"
    }
   ],
   "source": [
    "# Multiplication of the 2x2 Matrix\n",
    "matrix_1 = np.matrix([[1,2],[4,5]])\n",
    "\n",
    "muti = matrix_1 * matrix_1\n",
    "muti"
   ]
  },
  {
   "cell_type": "code",
   "execution_count": 28,
   "id": "8e5acac2-6b61-4f77-9ec5-a11b682e4ecc",
   "metadata": {},
   "outputs": [
    {
     "name": "stdout",
     "output_type": "stream",
     "text": [
      "Matrix A:\n",
      " [[1 2 3]\n",
      " [4 5 6]\n",
      " [7 8 9]]\n",
      "\n",
      "Matrix B:\n",
      " [[9 8 7]\n",
      " [6 5 4]\n",
      " [3 2 1]]\n",
      "\n",
      " The Dot Matrix of the A and B are:\n",
      "[[ 9 16 21]\n",
      " [24 25 24]\n",
      " [21 16  9]]\n"
     ]
    }
   ],
   "source": [
    "# Multiplication of  3x3 matrices\n",
    "\n",
    "# Two method\n",
    "\n",
    "A = np.array([[1, 2, 3],\n",
    "              [4, 5, 6],\n",
    "              [7, 8, 9]])\n",
    "\n",
    "B = np.array([[9, 8, 7],\n",
    "              [6, 5, 4],\n",
    "              [3, 2, 1]])\n",
    "\n",
    "print(\"Matrix A:\\n\", A)\n",
    "print()\n",
    "print(\"Matrix B:\\n\", B)\n",
    "print(\"\\n The Dot Matrix of the A and B are:\")\n",
    "print(A*B)\n"
   ]
  },
  {
   "cell_type": "code",
   "execution_count": 29,
   "id": "6c58a503-f7c0-4e01-ab38-3970342c2e8b",
   "metadata": {},
   "outputs": [
    {
     "name": "stdout",
     "output_type": "stream",
     "text": [
      "Matrix A:\n",
      " [[1 2 3]\n",
      " [4 5 6]\n",
      " [7 8 9]]\n",
      "\n",
      "Matrix B:\n",
      " [[9 8 7]\n",
      " [6 5 4]\n",
      " [3 2 1]]\n",
      "\n",
      "\n",
      "Dot product of A and B:\n",
      " [[ 30  24  18]\n",
      " [ 84  69  54]\n",
      " [138 114  90]]\n"
     ]
    }
   ],
   "source": [
    "# Perform matrix multiplication using dot product\n",
    "result = np.dot(A, B)\n",
    "\n",
    "# Print the result\n",
    "print(\"Matrix A:\\n\", A)\n",
    "print()\n",
    "print(\"Matrix B:\\n\", B)\n",
    "print()\n",
    "print(\"\\nDot product of A and B:\\n\", result)"
   ]
  },
  {
   "cell_type": "markdown",
   "id": "d52e77a0-ac7e-479c-97dc-9e2506d88d6a",
   "metadata": {},
   "source": [
    "# Matrix Function in Numpy Array"
   ]
  },
  {
   "cell_type": "markdown",
   "id": "0f3d9099-9f2d-48bd-be78-31d03ee976da",
   "metadata": {},
   "source": [
    "1. Transpose\n",
    "   \n",
    "3. Swapaxes\n",
    "   \n",
    "5. inverse\n",
    "   \n",
    "7. Determinate\n"
   ]
  },
  {
   "cell_type": "markdown",
   "id": "ff7b9748-c744-4a9a-be86-9f2793c6ecef",
   "metadata": {},
   "source": [
    "#  Transpose\n",
    "\"\"\" Converting the Number of columns into rows\"\"\""
   ]
  },
  {
   "cell_type": "code",
   "execution_count": 36,
   "id": "66a4fa75-9b42-486a-93f4-5185c35046fc",
   "metadata": {},
   "outputs": [
    {
     "name": "stdout",
     "output_type": "stream",
     "text": [
      "The Matrix A\n"
     ]
    },
    {
     "data": {
      "text/plain": [
       "array([[1, 2, 3],\n",
       "       [4, 5, 6],\n",
       "       [7, 8, 9]])"
      ]
     },
     "execution_count": 36,
     "metadata": {},
     "output_type": "execute_result"
    }
   ],
   "source": [
    "print(\"The Matrix A\")\n",
    "A"
   ]
  },
  {
   "cell_type": "code",
   "execution_count": 37,
   "id": "a0a6fce8-d448-4b1b-91c3-2cacf609c8e2",
   "metadata": {},
   "outputs": [
    {
     "data": {
      "text/plain": [
       "array([[1, 4, 7],\n",
       "       [2, 5, 8],\n",
       "       [3, 6, 9]])"
      ]
     },
     "execution_count": 37,
     "metadata": {},
     "output_type": "execute_result"
    }
   ],
   "source": [
    "Transpose_A = np.transpose(A)\n",
    "\n",
    "Transpose_A"
   ]
  },
  {
   "cell_type": "markdown",
   "id": "e604e507-c3e6-4d6b-a870-2bcb4e0a43a3",
   "metadata": {},
   "source": [
    "#  Swapaxes"
   ]
  },
  {
   "cell_type": "code",
   "execution_count": null,
   "id": "4879bcd8-dd5e-4df7-98b9-3184ec82d098",
   "metadata": {},
   "outputs": [],
   "source": [
    "\n",
    "\"\"\" Converting the Number of columns into rows and Rows into Columns\"\"\""
   ]
  },
  {
   "cell_type": "code",
   "execution_count": 39,
   "id": "076cffaa-b828-436f-8ab5-a98fd3453a0d",
   "metadata": {},
   "outputs": [
    {
     "name": "stdout",
     "output_type": "stream",
     "text": [
      "The Marix of B is:\n"
     ]
    },
    {
     "data": {
      "text/plain": [
       "array([[9, 8, 7],\n",
       "       [6, 5, 4],\n",
       "       [3, 2, 1]])"
      ]
     },
     "execution_count": 39,
     "metadata": {},
     "output_type": "execute_result"
    }
   ],
   "source": [
    "print(\"The Marix of B is:\")\n",
    "B"
   ]
  },
  {
   "cell_type": "code",
   "execution_count": 43,
   "id": "07ea7cf3-81ae-438e-aa37-d39545ba26f0",
   "metadata": {},
   "outputs": [
    {
     "data": {
      "text/plain": [
       "array([[9, 6, 3],\n",
       "       [8, 5, 2],\n",
       "       [7, 4, 1]])"
      ]
     },
     "execution_count": 43,
     "metadata": {},
     "output_type": "execute_result"
    }
   ],
   "source": [
    "# Swapaxes of the Matrix B\n",
    "\n",
    "swap_B = np.swapaxes(B,0,1)\n",
    "swap_B"
   ]
  },
  {
   "cell_type": "markdown",
   "id": "c485ce16-8ecc-48ec-b34f-d29404fb96c2",
   "metadata": {},
   "source": [
    "# Inverse of the Matrix"
   ]
  },
  {
   "cell_type": "code",
   "execution_count": 52,
   "id": "3e8878b8-2dcc-416c-8961-90560a316b18",
   "metadata": {},
   "outputs": [
    {
     "data": {
      "text/plain": [
       "' Converting the Position of First Diagonal Values and Sign of the 2nd Diagonal Values '"
      ]
     },
     "execution_count": 52,
     "metadata": {},
     "output_type": "execute_result"
    }
   ],
   "source": [
    "#  Invering of the Matrix\n",
    "\"\"\" Converting the Position of First Diagonal Values and Sign of the 2nd Diagonal Values \"\"\""
   ]
  },
  {
   "cell_type": "code",
   "execution_count": 53,
   "id": "c6c1cc2a-f256-40a3-af95-35e58dc94a03",
   "metadata": {},
   "outputs": [
    {
     "name": "stdout",
     "output_type": "stream",
     "text": [
      "The Matrix C befor Inversing\n"
     ]
    },
    {
     "data": {
      "text/plain": [
       "matrix([[1, 2],\n",
       "        [3, 4]])"
      ]
     },
     "execution_count": 53,
     "metadata": {},
     "output_type": "execute_result"
    }
   ],
   "source": [
    "# Inverising of the Matix C\n",
    "\n",
    "print(\"The Matrix C befor Inversing\")\n",
    "C = np.matrix([[1,2],[3,4]])\n",
    "\n",
    "C"
   ]
  },
  {
   "cell_type": "code",
   "execution_count": 54,
   "id": "1cd4b410-617f-419a-918d-6673d04b73ab",
   "metadata": {},
   "outputs": [
    {
     "name": "stdout",
     "output_type": "stream",
     "text": [
      "The Matrix C after Inversing\n"
     ]
    },
    {
     "data": {
      "text/plain": [
       "matrix([[-2. ,  1. ],\n",
       "        [ 1.5, -0.5]])"
      ]
     },
     "execution_count": 54,
     "metadata": {},
     "output_type": "execute_result"
    }
   ],
   "source": [
    "# Inverising of the Matix C\n",
    "\n",
    "print(\"The Matrix C after Inversing\")\n",
    "Inverse_C = np.linalg.inv(C)   # .linalg ---> Refer linear algebra Module\n",
    "Inverse_C"
   ]
  },
  {
   "cell_type": "markdown",
   "id": "fa699962-2f42-445c-93d4-b3a7548d6fb3",
   "metadata": {},
   "source": [
    "# Power\n",
    "Dot Matrix of the [ Matrix1 ]  * [ Matrix2]"
   ]
  },
  {
   "cell_type": "code",
   "execution_count": 56,
   "id": "e9ccd61a-e241-45ff-947b-0edb81b4582b",
   "metadata": {},
   "outputs": [
    {
     "data": {
      "text/plain": [
       "matrix([[1, 2],\n",
       "        [3, 4]])"
      ]
     },
     "execution_count": 56,
     "metadata": {},
     "output_type": "execute_result"
    }
   ],
   "source": [
    "myMatrix = np.matrix([[1,2],[3,4]])\n",
    "\n",
    "myMatrix"
   ]
  },
  {
   "cell_type": "code",
   "execution_count": 68,
   "id": "0028a021-077a-484d-92c4-73168acab83f",
   "metadata": {},
   "outputs": [
    {
     "data": {
      "text/plain": [
       "matrix([[1, 0],\n",
       "        [0, 1]])"
      ]
     },
     "execution_count": 68,
     "metadata": {},
     "output_type": "execute_result"
    }
   ],
   "source": [
    "# General form of the power\n",
    "# \"\"\"General_Form = np.linalg.matrix_power(Matrix, n)\"\"\"\"\n",
    "# \"\"\"\n",
    "    # n = 0, gives the identical Matrix\n",
    "    # n > 0 , give the power (multiply)\n",
    "    # n < 0, Inverse Multiply Power   ---- finding determinent, Inverse, adjoin/determint\n",
    "#\"\"\"\"\n",
    "\n",
    "\n",
    "#Applying the Power Method in matrix by using the n= 0\n",
    "\n",
    "pow_myMarix = np.linalg.matrix_power(myMatrix, 0)\n",
    "pow_myMarix"
   ]
  },
  {
   "cell_type": "code",
   "execution_count": 67,
   "id": "7c5b4e2d-4875-46a1-ae8f-e9f4736edf9e",
   "metadata": {},
   "outputs": [
    {
     "data": {
      "text/plain": [
       "matrix([[ 7, 10],\n",
       "        [15, 22]])"
      ]
     },
     "execution_count": 67,
     "metadata": {},
     "output_type": "execute_result"
    }
   ],
   "source": [
    "#Applying the Power Method in matrix by using the n= 2\n",
    "\n",
    "pow_myMarix = np.linalg.matrix_power(myMatrix, 2)\n",
    "pow_myMarix"
   ]
  },
  {
   "cell_type": "code",
   "execution_count": 66,
   "id": "f8a9a8c3-ff4f-4dad-964f-c8ad67221098",
   "metadata": {},
   "outputs": [
    {
     "data": {
      "text/plain": [
       "matrix([[-2. ,  1. ],\n",
       "        [ 1.5, -0.5]])"
      ]
     },
     "execution_count": 66,
     "metadata": {},
     "output_type": "execute_result"
    }
   ],
   "source": [
    "#Applying the Power Method in matrix by using the n= -2\n",
    " \n",
    "pow_myMarix = np.linalg.matrix_power(myMatrix, -2)\n",
    "pow_myMarix"
   ]
  },
  {
   "cell_type": "markdown",
   "id": "83c7858d-6425-4645-a64e-24b91d7402cf",
   "metadata": {},
   "source": [
    "# Determinate"
   ]
  },
  {
   "cell_type": "code",
   "execution_count": 70,
   "id": "3cd2c278-6cb6-4399-807b-dd13ede566d0",
   "metadata": {},
   "outputs": [
    {
     "data": {
      "text/plain": [
       "matrix([[1, 2],\n",
       "        [3, 4]])"
      ]
     },
     "execution_count": 70,
     "metadata": {},
     "output_type": "execute_result"
    }
   ],
   "source": [
    "myMatrix = np.matrix([[1,2],[3,4]])\n",
    "myMatrix"
   ]
  },
  {
   "cell_type": "code",
   "execution_count": 71,
   "id": "cc429a84-d025-4c2c-bf94-421c7e4ffdd4",
   "metadata": {},
   "outputs": [],
   "source": [
    "Determinent_myMatrix = np.linalg.det(myMatrix)"
   ]
  },
  {
   "cell_type": "code",
   "execution_count": 72,
   "id": "1da12b58-b0f8-4552-9fa1-81a02b37ec0a",
   "metadata": {},
   "outputs": [
    {
     "data": {
      "text/plain": [
       "-2.0000000000000004"
      ]
     },
     "execution_count": 72,
     "metadata": {},
     "output_type": "execute_result"
    }
   ],
   "source": [
    "Determinent_myMatrix"
   ]
  },
  {
   "cell_type": "code",
   "execution_count": null,
   "id": "76a022bc-e250-46ca-b56c-63433a4a7aff",
   "metadata": {},
   "outputs": [],
   "source": []
  }
 ],
 "metadata": {
  "kernelspec": {
   "display_name": "Python 3 (ipykernel)",
   "language": "python",
   "name": "python3"
  },
  "language_info": {
   "codemirror_mode": {
    "name": "ipython",
    "version": 3
   },
   "file_extension": ".py",
   "mimetype": "text/x-python",
   "name": "python",
   "nbconvert_exporter": "python",
   "pygments_lexer": "ipython3",
   "version": "3.12.4"
  }
 },
 "nbformat": 4,
 "nbformat_minor": 5
}
